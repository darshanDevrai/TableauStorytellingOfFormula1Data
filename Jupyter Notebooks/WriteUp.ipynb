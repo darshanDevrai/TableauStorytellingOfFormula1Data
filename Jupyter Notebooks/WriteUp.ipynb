{
 "cells": [
  {
   "cell_type": "markdown",
   "metadata": {},
   "source": [
    "# Tableau Story of Formula 1 data"
   ]
  },
  {
   "cell_type": "markdown",
   "metadata": {},
   "source": [
    "### Tableau public links"
   ]
  },
  {
   "cell_type": "markdown",
   "metadata": {},
   "source": [
    "  __[Initial Story of F1](https://public.tableau.com/profile/darshan.devrai#!/vizhome/newF1/StoryofFormula1)__<br/>\n",
    "  __[Final Story of F1](https://public.tableau.com/profile/darshan.devrai#!/vizhome/F1Final/StoryofFormula1?publish=yes)__"
   ]
  },
  {
   "cell_type": "markdown",
   "metadata": {},
   "source": [
    "### Summary"
   ]
  },
  {
   "cell_type": "markdown",
   "metadata": {},
   "source": [
    "Formula One (also Formula 1 or F1) is the highest class of single-seat auto racing that is sanctioned by the Fédération Internationale de l'Automobile (FIA).The FIA Formula One World Championship has been one of the premier forms of racing around the world since its inaugural season in 1950. We will explore many key insights like greatest driver, greatest constructor team, rivalries and many more from the F1 dataset since 1950."
   ]
  },
  {
   "cell_type": "markdown",
   "metadata": {},
   "source": [
    "### Design"
   ]
  },
  {
   "cell_type": "markdown",
   "metadata": {},
   "source": [
    "- First I started with questions like \"who is the greatest driver?\", \"which team is the greatest?\" and so on. While dicovering such answers I came across many surprising insights.\n",
    "- The main key variables are drivers, wins, points and constructors. So I started visualization by using these variables.\n",
    "- Initially, I used Bar charts wherever possible but since it is time series data I used line charts which makes charts easy to read.\n",
    "- I used maps to show circuits around the world instead of using only the circuit names in the visualization. "
   ]
  },
  {
   "cell_type": "markdown",
   "metadata": {},
   "source": [
    "### Feedback"
   ]
  },
  {
   "cell_type": "markdown",
   "metadata": {},
   "source": [
    "I took feedback from three people. My brother who knows about the Formula 1 sport, Sister and a Friend. Each of them gave me different feedbacks. My brother gave me the most important feedbacks as he knows the sport.\n",
    " \n",
    " - Successful Drivers -Successful Drivers by Country is not visible correctly with sum of points.\n",
    "  - So I changed it with the percentage which makes it clear to see.\n",
    " - The greatest driver -The greatest driver visualization is not correctly shown. Something is wrong because Michael Shumacher is the greatest driver not Lewis Hamilton. \n",
    "  - When my brother pointed out this fact then I realized that the point system has been changed many times since 1950 __[Wikipedia - List_of_Formula_One_World_Championship_points_scoring_systems ](https://en.wikipedia.org/wiki/List_of_Formula_One_World_Championship_points_scoring_systems)__. e.g. in 1990's point for race winner was 10 where as from 2010 onwords it is 25. So to make the points consistent, I changed all the points with the recent pointing system i.e 25 for 1st, 18 for 2nd, 15 for 3rd and so on.(notebook of this code is provided)\n",
    "  - I used line chart to show all the historical data of all the drivers.\n",
    " - Hamiton vs Rosberg in 2016 & Hamilton vs Vettel in 2017- \n",
    " The bar chart on the left is difficult to understand. All the points scored by Hamilton and Roseberg are correct but they are not in the correct order. e.g. The race at Abu Dhabi is the final race of the season and in chart it is showing first in this chart.\n",
    "  - Instead of bar chart here, I used map to show all the circuits around the world and used the winner's name as a text label on the cicuits.\n",
    "  - In order to show the correct order of points scored, I used date attribute and marked circuit name and location as a tooltip on the line chart.\n",
    " - Greatest rivalry, Alain Prost and Ayerton Senna - In this chart the points plotted on line doesnt show any closeness which it should if its a rivalry and Prost had more seasons than Senna.\n",
    "  - I selected four seasons to plot the line chart out of which two were won by Senna and 2 by Prost. THis plots shows how their points intersect with each other.\n",
    " - Most successful constructor team - This plot is not clear about which Team is successful. Instead of Bubble charts use something different which makes it easy and clear to understand.\n",
    "  - I used a simple bar chart with nationality as a color."
   ]
  },
  {
   "cell_type": "markdown",
   "metadata": {},
   "source": [
    "### Resources"
   ]
  },
  {
   "cell_type": "markdown",
   "metadata": {},
   "source": [
    " - Dataset from Kaggle - __[Kaggle - F1 dataset](https://www.kaggle.com/cjgdev/formula-1-race-data-19502017)__\n",
    " - Wikipedia - __[Formula 1](https://en.wikipedia.org/wiki/Formula_One)__\n"
   ]
  },
  {
   "cell_type": "code",
   "execution_count": null,
   "metadata": {
    "collapsed": true
   },
   "outputs": [],
   "source": []
  }
 ],
 "metadata": {
  "kernelspec": {
   "display_name": "Python 3",
   "language": "python",
   "name": "python3"
  },
  "language_info": {
   "codemirror_mode": {
    "name": "ipython",
    "version": 3
   },
   "file_extension": ".py",
   "mimetype": "text/x-python",
   "name": "python",
   "nbconvert_exporter": "python",
   "pygments_lexer": "ipython3",
   "version": "3.6.3"
  }
 },
 "nbformat": 4,
 "nbformat_minor": 2
}
